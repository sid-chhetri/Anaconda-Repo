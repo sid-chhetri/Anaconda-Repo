{
 "cells": [
  {
   "cell_type": "markdown",
   "metadata": {},
   "source": [
    "# Python List"
   ]
  },
  {
   "cell_type": "markdown",
   "metadata": {},
   "source": [
    "### 1. Create your own lists otherwise use the List1 = ['a','b','c']  to operate the below Python list  Operations?"
   ]
  },
  {
   "cell_type": "markdown",
   "metadata": {},
   "source": [
    "### 1. List Operations\n",
    "    A. Repetition (*)\n",
    "    B. Concatenation (+)\n",
    "    C. Membership\n",
    "    D. Length\n",
    "    E. Iteration"
   ]
  },
  {
   "cell_type": "markdown",
   "metadata": {},
   "source": [
    "##### 1.A. Repetition:"
   ]
  },
  {
   "cell_type": "code",
   "execution_count": 1,
   "metadata": {},
   "outputs": [
    {
     "name": "stdout",
     "output_type": "stream",
     "text": [
      "['a', 'b', 'c', 'a', 'b', 'c']\n"
     ]
    }
   ],
   "source": [
    "my_list = ['a','b','c']\n",
    "a = my_list * 2\n",
    "print(list(a))"
   ]
  },
  {
   "cell_type": "markdown",
   "metadata": {},
   "source": [
    "#### 1.B. Concatenation (+):"
   ]
  },
  {
   "cell_type": "code",
   "execution_count": 2,
   "metadata": {},
   "outputs": [
    {
     "name": "stdout",
     "output_type": "stream",
     "text": [
      "['a', 'b', 'c', 'd', 'e', 'f']\n"
     ]
    }
   ],
   "source": [
    "my_list1 = ['a','b','c']\n",
    "my_list2 = ['d','e','f']\n",
    "new_list = my_list1 + my_list2\n",
    "print(list(new_list))"
   ]
  },
  {
   "cell_type": "markdown",
   "metadata": {},
   "source": [
    "#### 1.C. Membership:"
   ]
  },
  {
   "cell_type": "code",
   "execution_count": 8,
   "metadata": {},
   "outputs": [
    {
     "name": "stdout",
     "output_type": "stream",
     "text": [
      "a is in list\n"
     ]
    }
   ],
   "source": [
    "my_list3 = ['a','b','c']\n",
    "if 'a' in my_list3:\n",
    "    print(\"a is in list\")\n",
    "else:\n",
    "    print(\"a is not in list\")"
   ]
  },
  {
   "cell_type": "markdown",
   "metadata": {},
   "source": [
    "#### 1.D. Length:"
   ]
  },
  {
   "cell_type": "code",
   "execution_count": 9,
   "metadata": {},
   "outputs": [
    {
     "name": "stdout",
     "output_type": "stream",
     "text": [
      "3\n"
     ]
    }
   ],
   "source": [
    "my_list4 = ['a','b','c']\n",
    "print(len(my_list4))"
   ]
  },
  {
   "cell_type": "markdown",
   "metadata": {},
   "source": [
    "#### 1.E. Iteration:"
   ]
  },
  {
   "cell_type": "code",
   "execution_count": 11,
   "metadata": {},
   "outputs": [
    {
     "name": "stdout",
     "output_type": "stream",
     "text": [
      "a\n",
      "b\n",
      "c\n"
     ]
    }
   ],
   "source": [
    "my_list5 = ['a','b','c']\n",
    "for item in my_list5:\n",
    "    print(item)"
   ]
  },
  {
   "cell_type": "markdown",
   "metadata": {},
   "source": [
    "### 2.1. Create your own lists to operate the below Python List Built-in functions?\n",
    "##### otherwise use the\n",
    "            List1 = [1, 2, 4, 5, 54]\n",
    "            List2 = [23,54,789,9876,876,532,56]\n",
    "            List3 = [1, 2,76543,289,87654,33,456789876,5432,45678]"
   ]
  },
  {
   "cell_type": "markdown",
   "metadata": {},
   "source": [
    "    A.\tmax(list)\t   \n",
    "    B.\tmin(list)\t   \n",
    "    C.\tlist(seq)\t     "
   ]
  },
  {
   "cell_type": "markdown",
   "metadata": {},
   "source": [
    "#### 2.C. max(list):"
   ]
  },
  {
   "cell_type": "code",
   "execution_count": 14,
   "metadata": {},
   "outputs": [
    {
     "name": "stdout",
     "output_type": "stream",
     "text": [
      "54\n",
      "9876\n",
      "456789876\n"
     ]
    }
   ],
   "source": [
    "List1 = [1, 2, 4, 5, 54]\n",
    "List2 = [23,54,789,9876,876,532,56]\n",
    "List3 = [1, 2,76543,289,87654,33,456789876,5432,45678]\n",
    "\n",
    "max1 = print(max(List1))\n",
    "max2 = print(max(List2))\n",
    "max3 = print(max(List3))"
   ]
  },
  {
   "cell_type": "markdown",
   "metadata": {},
   "source": [
    "#### 2.D. min():"
   ]
  },
  {
   "cell_type": "code",
   "execution_count": 17,
   "metadata": {},
   "outputs": [
    {
     "name": "stdout",
     "output_type": "stream",
     "text": [
      "1\n",
      "23\n",
      "1\n"
     ]
    }
   ],
   "source": [
    "min1 = print(min(List1))\n",
    "min2 = print(min(List2))\n",
    "min3 = print(min(List3))"
   ]
  },
  {
   "cell_type": "markdown",
   "metadata": {},
   "source": [
    "#### 2.E.list:"
   ]
  },
  {
   "cell_type": "code",
   "execution_count": 1,
   "metadata": {},
   "outputs": [
    {
     "name": "stdout",
     "output_type": "stream",
     "text": [
      "[1, 2, 3, 4, 5, 6]\n"
     ]
    }
   ],
   "source": [
    "tuple1 = (1,2,3,4,5,6)\n",
    "new_list = list(tuple1)\n",
    "print(new_list)"
   ]
  },
  {
   "cell_type": "markdown",
   "metadata": {},
   "source": [
    "### 3. Create your own lists to operate the below  thePython List built-in methods?\n",
    "##### otherwise use below list:\n",
    "           List = ['white','red', 'blue', 'green','blue','yellow', 'black']\n"
   ]
  },
  {
   "cell_type": "markdown",
   "metadata": {},
   "source": [
    "    A.\tlist.append()\n",
    "    B.\tlist.clear()\t \n",
    "    C.\tList.copy()\t           \n",
    "    D.\tlist.count()\t       \n",
    "    E.\tlist.extend()\t  \n",
    "    F.\tlist.index()\n",
    "    G.\tlist.insert()\t\n",
    "    H.\tlist.pop()\t\n",
    "    I.\tlist.remove()\t  \n",
    "    J.\tlist.reverse()\t        \n",
    "    K.\tlist.sort()\t  "
   ]
  },
  {
   "cell_type": "markdown",
   "metadata": {},
   "source": [
    "#### 3.A) append:"
   ]
  },
  {
   "cell_type": "code",
   "execution_count": 27,
   "metadata": {},
   "outputs": [
    {
     "name": "stdout",
     "output_type": "stream",
     "text": [
      "['white', 'red', 'blue', 'green', 'blue', 'yellow', 'black', 2001]\n"
     ]
    }
   ],
   "source": [
    "my_list = ['white','red','blue','green','blue','yellow','black']\n",
    "my_list.append(2001)\n",
    "print(my_list)"
   ]
  },
  {
   "cell_type": "markdown",
   "metadata": {},
   "source": [
    "#### 3.B) list.clear():"
   ]
  },
  {
   "cell_type": "code",
   "execution_count": 35,
   "metadata": {},
   "outputs": [
    {
     "name": "stdout",
     "output_type": "stream",
     "text": [
      "['white', 'red', 'blue', 'green', 'blue', 'yellow', 'black']\n",
      "[]\n"
     ]
    }
   ],
   "source": [
    "my_list1 = ['white','red','blue','green','blue','yellow','black']\n",
    "print(my_list1)\n",
    "my_list1.clear()\n",
    "print(my_list1)"
   ]
  },
  {
   "cell_type": "markdown",
   "metadata": {},
   "source": [
    "#### 3.C) List.copy()"
   ]
  },
  {
   "cell_type": "code",
   "execution_count": 36,
   "metadata": {},
   "outputs": [
    {
     "name": "stdout",
     "output_type": "stream",
     "text": [
      "['white', 'red', 'blue', 'green', 'blue', 'yellow', 'black']\n"
     ]
    }
   ],
   "source": [
    "my_list2 = ['white','red','blue','green','blue','yellow','black']\n",
    "new = my_list2.copy()\n",
    "print(list(new))"
   ]
  },
  {
   "cell_type": "markdown",
   "metadata": {},
   "source": [
    "#### 3. D) list.count(obj):"
   ]
  },
  {
   "cell_type": "code",
   "execution_count": 39,
   "metadata": {},
   "outputs": [
    {
     "name": "stdout",
     "output_type": "stream",
     "text": [
      "2\n"
     ]
    }
   ],
   "source": [
    "my_list3 = ['white','red','blue','green','blue','yellow','black','white']\n",
    "new1 = my_list3.count('white')\n",
    "print(new1)"
   ]
  },
  {
   "cell_type": "markdown",
   "metadata": {},
   "source": [
    "#### 3.E) list.extend(seq):"
   ]
  },
  {
   "cell_type": "code",
   "execution_count": 41,
   "metadata": {},
   "outputs": [
    {
     "name": "stdout",
     "output_type": "stream",
     "text": [
      "['white', 'red', 'blue', 'green', 'blue', 'yellow']\n"
     ]
    }
   ],
   "source": [
    "my_list4 = ['white','red','blue']\n",
    "my_list5 = ['green','blue','yellow']\n",
    "my_list4.extend(my_list5)\n",
    "print(my_list4)"
   ]
  },
  {
   "cell_type": "markdown",
   "metadata": {},
   "source": [
    "#### 3.F) list.index(obj):"
   ]
  },
  {
   "cell_type": "code",
   "execution_count": 45,
   "metadata": {},
   "outputs": [
    {
     "name": "stdout",
     "output_type": "stream",
     "text": [
      "2\n"
     ]
    }
   ],
   "source": [
    "my_list6 = ['white','red','blue','green','blue','yellow']\n",
    "new3 = my_list6.index('blue')\n",
    "print(new3)"
   ]
  },
  {
   "cell_type": "markdown",
   "metadata": {},
   "source": [
    "#### 3.G) list.insert(index, obj):"
   ]
  },
  {
   "cell_type": "code",
   "execution_count": 49,
   "metadata": {},
   "outputs": [
    {
     "name": "stdout",
     "output_type": "stream",
     "text": [
      "['white', 'red', 'blue', 'green', 'blue', 'yellow', 'black']\n"
     ]
    }
   ],
   "source": [
    "my_list7 = ['white','red','blue','green','blue','yellow']\n",
    "my_list7.insert(6,'black')\n",
    "print(my_list7)"
   ]
  },
  {
   "cell_type": "markdown",
   "metadata": {},
   "source": [
    "#### 3.H) list.pop(obj=list[-1]):"
   ]
  },
  {
   "cell_type": "code",
   "execution_count": 51,
   "metadata": {},
   "outputs": [
    {
     "name": "stdout",
     "output_type": "stream",
     "text": [
      "['white', 'red', 'blue', 'green', 'yellow', 'black']\n"
     ]
    }
   ],
   "source": [
    "my_list8 = ['white','red','blue','green','blue','yellow','black']\n",
    "my_list8.pop(4)\n",
    "print(my_list8)"
   ]
  },
  {
   "cell_type": "markdown",
   "metadata": {},
   "source": [
    "#### 3.I) list.remove(obj):"
   ]
  },
  {
   "cell_type": "code",
   "execution_count": 53,
   "metadata": {},
   "outputs": [
    {
     "name": "stdout",
     "output_type": "stream",
     "text": [
      "['white', 'blue', 'green', 'blue', 'yellow', 'black']\n"
     ]
    }
   ],
   "source": [
    "my_list9 = ['white','red','blue','green','blue','yellow','black']\n",
    "my_list9.remove('red')\n",
    "print(my_list9)"
   ]
  },
  {
   "cell_type": "markdown",
   "metadata": {},
   "source": [
    "#### 3.j) list.reverse():"
   ]
  },
  {
   "cell_type": "code",
   "execution_count": 54,
   "metadata": {},
   "outputs": [
    {
     "name": "stdout",
     "output_type": "stream",
     "text": [
      "['black', 'yellow', 'blue', 'green', 'blue', 'red', 'white']\n"
     ]
    }
   ],
   "source": [
    "my_list10 = ['white','red','blue','green','blue','yellow','black']\n",
    "my_list10.reverse()\n",
    "print(my_list10)"
   ]
  },
  {
   "cell_type": "markdown",
   "metadata": {},
   "source": [
    "#### 3.K) list.sort([func]):"
   ]
  },
  {
   "cell_type": "code",
   "execution_count": 55,
   "metadata": {},
   "outputs": [
    {
     "name": "stdout",
     "output_type": "stream",
     "text": [
      "[1, 2, 3, 4, 6, 7]\n"
     ]
    }
   ],
   "source": [
    "my_list11 = [1,4,2,6,7,3]\n",
    "my_list11.sort()\n",
    "print(my_list11)"
   ]
  },
  {
   "cell_type": "markdown",
   "metadata": {},
   "source": [
    "# Python Tuple"
   ]
  },
  {
   "cell_type": "markdown",
   "metadata": {},
   "source": [
    "### Create your own Tuple to operate the below Python tuple Operations ?\n",
    "##### otherwise use the\n",
    "                Tuple1 = ('white','red', 'blue', 'green','blue','yellow', 'black')\n",
    "                Tuple2 = (1,4,1,3,4,5,65)"
   ]
  },
  {
   "cell_type": "markdown",
   "metadata": {},
   "source": [
    "### 1. Tuple Operations\n",
    "    A. Repetition (*)\n",
    "    B. Concatenation (+)\n",
    "    C. Membership\n",
    "    D. Length\n",
    "    E. Iteration"
   ]
  },
  {
   "cell_type": "markdown",
   "metadata": {},
   "source": [
    "##### 1.A. Repetition:\n"
   ]
  },
  {
   "cell_type": "code",
   "execution_count": 56,
   "metadata": {},
   "outputs": [
    {
     "name": "stdout",
     "output_type": "stream",
     "text": [
      "('white', 'red', 'blue', 'green', 'blue', 'yellow', 'black', 'white', 'red', 'blue', 'green', 'blue', 'yellow', 'black')\n"
     ]
    }
   ],
   "source": [
    "tuple1 = ('white','red', 'blue', 'green','blue','yellow', 'black')\n",
    "new = tuple1 * 2\n",
    "print(new)"
   ]
  },
  {
   "cell_type": "markdown",
   "metadata": {},
   "source": [
    "#### 1.B. Concatenation (+):"
   ]
  },
  {
   "cell_type": "code",
   "execution_count": 57,
   "metadata": {},
   "outputs": [
    {
     "name": "stdout",
     "output_type": "stream",
     "text": [
      "('white', 'red', 'blue', 'green', 'blue', 'yellow', 'black', 1, 4, 1, 3, 4, 5, 65)\n"
     ]
    }
   ],
   "source": [
    "tuple2 = ('white','red', 'blue', 'green','blue','yellow', 'black')\n",
    "tuple3 = (1,4,1,3,4,5,65)\n",
    "new1 = tuple2 + tuple3\n",
    "print(new1)"
   ]
  },
  {
   "cell_type": "markdown",
   "metadata": {},
   "source": [
    "#### 1.C) Membership:"
   ]
  },
  {
   "cell_type": "code",
   "execution_count": 64,
   "metadata": {},
   "outputs": [
    {
     "name": "stdout",
     "output_type": "stream",
     "text": [
      "it is present\n"
     ]
    }
   ],
   "source": [
    "tuple4 = ('white','red', 'blue', 'green','blue','yellow', 'black')\n",
    "if 'yellow' in tuple4:\n",
    "    print(\"it is present\")\n",
    "else:\n",
    "    print(\"it is not present\")"
   ]
  },
  {
   "cell_type": "markdown",
   "metadata": {},
   "source": [
    "#### 1.D) Length:"
   ]
  },
  {
   "cell_type": "code",
   "execution_count": 65,
   "metadata": {},
   "outputs": [
    {
     "name": "stdout",
     "output_type": "stream",
     "text": [
      "7\n"
     ]
    }
   ],
   "source": [
    "tuple4 = ('white','red', 'blue', 'green','blue','yellow', 'black')\n",
    "print(len(tuple4))"
   ]
  },
  {
   "cell_type": "markdown",
   "metadata": {},
   "source": [
    "#### 1.E) Iteration:"
   ]
  },
  {
   "cell_type": "code",
   "execution_count": 67,
   "metadata": {},
   "outputs": [
    {
     "name": "stdout",
     "output_type": "stream",
     "text": [
      "white\n",
      "red\n",
      "blue\n",
      "green\n",
      "blue\n",
      "yellow\n",
      "black\n"
     ]
    }
   ],
   "source": [
    "tuple4 = ('white','red', 'blue', 'green','blue','yellow', 'black')\n",
    "for value in tuple4:\n",
    "    print(value)"
   ]
  },
  {
   "cell_type": "markdown",
   "metadata": {},
   "source": [
    "### 2.Create your own Tuple to operate the below Python tuple inbuilt functions ?\n",
    "##### otherwise use the\n",
    "            Tuple1 = (11,4,21,4,115,6,13,51,4,16,77,8,17,17,876,89,8765,14,51,11,876,9,3456,4234)\n",
    "         "
   ]
  },
  {
   "cell_type": "markdown",
   "metadata": {},
   "source": [
    "         A.\tmax(Tuple)\t   \n",
    "         B.\tmin(Tuple)\t    \n",
    "         C.\tTuple(seq)\t    "
   ]
  },
  {
   "cell_type": "markdown",
   "metadata": {},
   "source": [
    "#### 2.A) max():"
   ]
  },
  {
   "cell_type": "code",
   "execution_count": 71,
   "metadata": {},
   "outputs": [
    {
     "name": "stdout",
     "output_type": "stream",
     "text": [
      "8765\n"
     ]
    }
   ],
   "source": [
    "tuple1 = (11,4,21,4,115,6,13,51,4,16,77,8,17,17,876,89,8765,14,51,11,876,9,3456,4234)\n",
    "new = max(tuple1)\n",
    "print(new)"
   ]
  },
  {
   "cell_type": "markdown",
   "metadata": {},
   "source": [
    "#### 2.D) min():"
   ]
  },
  {
   "cell_type": "code",
   "execution_count": 72,
   "metadata": {},
   "outputs": [
    {
     "name": "stdout",
     "output_type": "stream",
     "text": [
      "4\n"
     ]
    }
   ],
   "source": [
    "tuple2 = (11,4,21,4,115,6,13,51,4,16,77,8,17,17,876,89,8765,14,51,11,876,9,3456,4234)\n",
    "new1 = min(tuple2)\n",
    "print(new1)"
   ]
  },
  {
   "cell_type": "markdown",
   "metadata": {},
   "source": [
    "#### 2.E) Tuple:"
   ]
  },
  {
   "cell_type": "code",
   "execution_count": 75,
   "metadata": {},
   "outputs": [
    {
     "name": "stdout",
     "output_type": "stream",
     "text": [
      "(11, 4, 21, 4, 115, 6, 13, 51, 4, 16, 77, 8, 17, 17, 876, 89, 8765, 14, 51, 11, 876, 9, 3456, 4234)\n"
     ]
    }
   ],
   "source": [
    "my_list = [11,4,21,4,115,6,13,51,4,16,77,8,17,17,876,89,8765,14,51,11,876,9,3456,4234]\n",
    "new_tuple = tuple(my_list)\n",
    "print(new_tuple)"
   ]
  },
  {
   "cell_type": "markdown",
   "metadata": {},
   "source": [
    "# Python Set"
   ]
  },
  {
   "cell_type": "code",
   "execution_count": null,
   "metadata": {},
   "outputs": [],
   "source": [
    "#### Create your own Set to operate the below Python Set Operations ?\n",
    "#### otherwise use the below set:\n",
    "        Set1 = {1,4,3,4,4,3,5,6,7,8,9,6,8,5,436,54,876,9876,87654,787654,56}\n",
    "        Set2 = {9,8,9,5,7,4,6,57,88,7654,8,876,678,8765,45,6789,8765,467,887,65}\n",
    "    "
   ]
  },
  {
   "cell_type": "markdown",
   "metadata": {},
   "source": [
    "### 1. Set Operations\n",
    "     A. Union \n",
    "     B. Intersection\n",
    "     C. Difference\n",
    "     D. Symmetric difference"
   ]
  },
  {
   "cell_type": "markdown",
   "metadata": {},
   "source": [
    "#### 1.A) Union:"
   ]
  },
  {
   "cell_type": "code",
   "execution_count": 76,
   "metadata": {},
   "outputs": [
    {
     "name": "stdout",
     "output_type": "stream",
     "text": [
      "{1, 3, 4, 5, 6, 7, 8, 9, 6789, 9876, 678, 45, 436, 54, 56, 57, 8765, 65, 787654, 467, 88, 87654, 7654, 876, 887}\n"
     ]
    }
   ],
   "source": [
    "set1 = {1,4,3,4,4,3,5,6,7,8,9,6,8,5,436,54,876,9876,87654,787654,56}\n",
    "set2 = {9,8,9,5,7,4,6,57,88,7654,8,876,678,8765,45,6789,8765,467,887,65}\n",
    "new = set1.union(set2)\n",
    "print(new)"
   ]
  },
  {
   "cell_type": "markdown",
   "metadata": {},
   "source": [
    "#### 1.B. Intersection"
   ]
  },
  {
   "cell_type": "code",
   "execution_count": 77,
   "metadata": {},
   "outputs": [
    {
     "name": "stdout",
     "output_type": "stream",
     "text": [
      "{1, 3, 4, 5, 6, 7, 8, 9, 6789, 9876, 678, 45, 436, 54, 56, 57, 8765, 65, 787654, 467, 88, 87654, 7654, 876, 887}\n"
     ]
    }
   ],
   "source": [
    "set1 = {1,4,3,4,4,3,5,6,7,8,9,6,8,5,436,54,876,9876,87654,787654,56}\n",
    "set2 = {9,8,9,5,7,4,6,57,88,7654,8,876,678,8765,45,6789,8765,467,887,65}\n",
    "new1 = set1.intersection(set2)\n",
    "print(new)"
   ]
  },
  {
   "cell_type": "markdown",
   "metadata": {},
   "source": [
    "#### 1.C. Difference"
   ]
  },
  {
   "cell_type": "code",
   "execution_count": 78,
   "metadata": {},
   "outputs": [
    {
     "name": "stdout",
     "output_type": "stream",
     "text": [
      "{1, 3, 4, 5, 6, 7, 8, 9, 6789, 9876, 678, 45, 436, 54, 56, 57, 8765, 65, 787654, 467, 88, 87654, 7654, 876, 887}\n"
     ]
    }
   ],
   "source": [
    "new2 = set1.difference(set2)\n",
    "print(new)"
   ]
  },
  {
   "cell_type": "markdown",
   "metadata": {},
   "source": [
    "####  1.D. Symmetric difference:"
   ]
  },
  {
   "cell_type": "code",
   "execution_count": 80,
   "metadata": {},
   "outputs": [
    {
     "name": "stdout",
     "output_type": "stream",
     "text": [
      "{1, 3, 4, 5, 6, 7, 8, 9, 787654, 9876, 87654, 876, 436, 54, 56}\n"
     ]
    }
   ],
   "source": [
    "new3 = set1.symmetric_difference(set2)\n",
    "print(new3)"
   ]
  },
  {
   "cell_type": "markdown",
   "metadata": {},
   "source": [
    "# Python Dictionary"
   ]
  },
  {
   "cell_type": "markdown",
   "metadata": {},
   "source": [
    "#### Create your own Dictionary to operate the below Python Built-in Dictionary functions\n",
    "#### otherwise use the below Dictionary:\n",
    "                           Dictionary = {'a': 'alpha', 'o': 'omega', 'g': 'gamma'}"
   ]
  },
  {
   "cell_type": "markdown",
   "metadata": {},
   "source": [
    "    A.\tlen(dict)     \n",
    "    B.\tstr(dict)     \n",
    "    C.\ttype(variable)"
   ]
  },
  {
   "cell_type": "markdown",
   "metadata": {},
   "source": [
    "#### 1.A) len(dict):"
   ]
  },
  {
   "cell_type": "code",
   "execution_count": 82,
   "metadata": {},
   "outputs": [
    {
     "name": "stdout",
     "output_type": "stream",
     "text": [
      "3\n"
     ]
    }
   ],
   "source": [
    "dict1 = {'a': 'alpha', 'o': 'omega', 'g': 'gamma'}\n",
    "print(len(dict1))"
   ]
  },
  {
   "cell_type": "markdown",
   "metadata": {},
   "source": [
    "#### 2.B) str(dict):"
   ]
  },
  {
   "cell_type": "code",
   "execution_count": 83,
   "metadata": {},
   "outputs": [
    {
     "name": "stdout",
     "output_type": "stream",
     "text": [
      "{'a': 'alpha', 'o': 'omega', 'g': 'gamma'}\n"
     ]
    }
   ],
   "source": [
    "print(str(dict1))"
   ]
  },
  {
   "cell_type": "markdown",
   "metadata": {},
   "source": [
    "#### 1.C) type(variable):"
   ]
  },
  {
   "cell_type": "code",
   "execution_count": 84,
   "metadata": {
    "scrolled": false
   },
   "outputs": [
    {
     "name": "stdout",
     "output_type": "stream",
     "text": [
      "<class 'dict'>\n"
     ]
    }
   ],
   "source": [
    "print(type(dict1))"
   ]
  },
  {
   "cell_type": "markdown",
   "metadata": {},
   "source": [
    "### 2.Create your own Dictionary to operate the below Python Built-in Dictionary methods\n",
    "#### otherwise use the below Dictionary:\n",
    "\n",
    "                            dictionaries = {'a': 'alpha', 'o': 'omega', 'g': 'gamma'}"
   ]
  },
  {
   "cell_type": "markdown",
   "metadata": {},
   "source": [
    "    A.\tdic.clear()\t\n",
    "    B.\tdict.copy()\t   \n",
    "    C.\tdict.fromkeys()\n",
    "    D.  dict.get(key[, value])    \t\n",
    "    E.\tdict.items()\t\n",
    "    F.\tdict.keys() \t\n",
    "    G.\tdict.setdefault()\t\n",
    "    H.\tdict.update()\t\n",
    "    I.\tdict.values()\t"
   ]
  },
  {
   "cell_type": "markdown",
   "metadata": {},
   "source": [
    "#### 2.A) dic.clear():"
   ]
  },
  {
   "cell_type": "code",
   "execution_count": 87,
   "metadata": {},
   "outputs": [
    {
     "name": "stdout",
     "output_type": "stream",
     "text": [
      "{}\n"
     ]
    }
   ],
   "source": [
    "dict2 = {'a': 'alpha', 'o': 'omega', 'g': 'gamma'}\n",
    "dict2.clear()\n",
    "print(dict2)"
   ]
  },
  {
   "cell_type": "markdown",
   "metadata": {},
   "source": [
    "#### 2.B) dict.copy():"
   ]
  },
  {
   "cell_type": "code",
   "execution_count": 88,
   "metadata": {},
   "outputs": [
    {
     "name": "stdout",
     "output_type": "stream",
     "text": [
      "{'a': 'alpha', 'o': 'omega', 'g': 'gamma'}\n"
     ]
    }
   ],
   "source": [
    "dict2 = {'a': 'alpha', 'o': 'omega', 'g': 'gamma'}\n",
    "new = dict2.copy()\n",
    "print(new)"
   ]
  },
  {
   "cell_type": "markdown",
   "metadata": {},
   "source": [
    "#### 2.C) dict.fromkeys():"
   ]
  },
  {
   "cell_type": "code",
   "execution_count": 95,
   "metadata": {},
   "outputs": [
    {
     "name": "stdout",
     "output_type": "stream",
     "text": [
      "{'a': 0, 'o': 0, 'g': 0}\n"
     ]
    }
   ],
   "source": [
    "new1 = dict.fromkeys(dict2,0)\n",
    "print(new1)"
   ]
  },
  {
   "cell_type": "markdown",
   "metadata": {},
   "source": [
    "#### 2.D) dict.get(key[, value]) :"
   ]
  },
  {
   "cell_type": "code",
   "execution_count": 102,
   "metadata": {},
   "outputs": [
    {
     "name": "stdout",
     "output_type": "stream",
     "text": [
      "omega\n"
     ]
    }
   ],
   "source": [
    "new2 = dict.get(dict2,'o')\n",
    "print(new2)"
   ]
  },
  {
   "cell_type": "markdown",
   "metadata": {},
   "source": [
    "#### 2.E) dict.items()"
   ]
  },
  {
   "cell_type": "code",
   "execution_count": 5,
   "metadata": {},
   "outputs": [
    {
     "name": "stdout",
     "output_type": "stream",
     "text": [
      "dict_items([('a', 'alpha'), ('o', 'omega'), ('g', 'gamma')])\n"
     ]
    }
   ],
   "source": [
    "dict3 = {'a': 'alpha', 'o': 'omega', 'g': 'gamma'}\n",
    "print(dict3.items())"
   ]
  },
  {
   "cell_type": "markdown",
   "metadata": {},
   "source": [
    "#### 2.F) dict.keys() :"
   ]
  },
  {
   "cell_type": "code",
   "execution_count": 6,
   "metadata": {},
   "outputs": [
    {
     "name": "stdout",
     "output_type": "stream",
     "text": [
      "dict_keys(['a', 'o', 'g'])\n"
     ]
    }
   ],
   "source": [
    "print(dict3.keys())"
   ]
  },
  {
   "cell_type": "markdown",
   "metadata": {},
   "source": [
    "#### 2.G) dict.setdefault():"
   ]
  },
  {
   "cell_type": "code",
   "execution_count": null,
   "metadata": {},
   "outputs": [],
   "source": []
  },
  {
   "cell_type": "markdown",
   "metadata": {},
   "source": [
    "#### 2.H) dict.update():"
   ]
  },
  {
   "cell_type": "code",
   "execution_count": 11,
   "metadata": {},
   "outputs": [
    {
     "name": "stdout",
     "output_type": "stream",
     "text": [
      "{'a': 'alpha', 'o': 'omega', 'g': 'gamma', 'd': 'delta'}\n"
     ]
    }
   ],
   "source": [
    "dict4 = {'d': 'delta'}\n",
    "dict3.update(dict4)\n",
    "print(dict3)"
   ]
  },
  {
   "cell_type": "markdown",
   "metadata": {},
   "source": [
    " #### 2.L)  dict.values():"
   ]
  },
  {
   "cell_type": "code",
   "execution_count": 20,
   "metadata": {},
   "outputs": [
    {
     "name": "stdout",
     "output_type": "stream",
     "text": [
      "dict_values(['alpha', 'omega', 'gamma'])\n"
     ]
    }
   ],
   "source": [
    "dict6 = {'a': 'alpha', 'o': 'omega', 'g': 'gamma'}\n",
    "dict7 = dict6.values()\n",
    "print(dict7)"
   ]
  },
  {
   "cell_type": "markdown",
   "metadata": {},
   "source": [
    "# Conditional Statements"
   ]
  },
  {
   "cell_type": "markdown",
   "metadata": {},
   "source": [
    "    1. IF \n",
    "    2. IF-ELSE\n",
    "    3. If...Elif...Else\n",
    "   "
   ]
  },
  {
   "cell_type": "markdown",
   "metadata": {},
   "source": [
    "#### 1. Store a number in a variable and check if that variable is equal to 10, If yes, print \"Hello\""
   ]
  },
  {
   "cell_type": "code",
   "execution_count": 114,
   "metadata": {},
   "outputs": [
    {
     "name": "stdout",
     "output_type": "stream",
     "text": [
      "Enter a number: 5\n"
     ]
    }
   ],
   "source": [
    "a = int(input(\"Enter a number: \"))\n",
    "if a == 10:\n",
    "    print(\"hello\")"
   ]
  },
  {
   "cell_type": "markdown",
   "metadata": {},
   "source": [
    "#### 2. Store a number in a variable and check if that variable is equal to 10, If yes, print \"Hello\", else print \"Good Bye\""
   ]
  },
  {
   "cell_type": "code",
   "execution_count": 116,
   "metadata": {},
   "outputs": [
    {
     "name": "stdout",
     "output_type": "stream",
     "text": [
      "Enter a number: 5\n",
      "Goodbye\n"
     ]
    }
   ],
   "source": [
    "b = int(input(\"Enter a number: \"))\n",
    "if b == 10:\n",
    "    print(\"Hello\")\n",
    "else:\n",
    "    print(\"Goodbye\")"
   ]
  },
  {
   "cell_type": "markdown",
   "metadata": {},
   "source": [
    "# While Loop"
   ]
  },
  {
   "cell_type": "markdown",
   "metadata": {},
   "source": [
    "#### 1. Print Hello World 5 times"
   ]
  },
  {
   "cell_type": "code",
   "execution_count": 117,
   "metadata": {},
   "outputs": [
    {
     "name": "stdout",
     "output_type": "stream",
     "text": [
      "Hello\n",
      "Hello\n",
      "Hello\n",
      "Hello\n",
      "Hello\n"
     ]
    }
   ],
   "source": [
    "count = 1\n",
    "while(count<=5):\n",
    "    print(\"Hello\")\n",
    "    \n",
    "    count += 1"
   ]
  },
  {
   "cell_type": "markdown",
   "metadata": {},
   "source": [
    "# For Loop"
   ]
  },
  {
   "cell_type": "markdown",
   "metadata": {},
   "source": [
    "#### 1. Take a list [23,1,0,12,45,-1,46], loop through each element and print it"
   ]
  },
  {
   "cell_type": "code",
   "execution_count": 118,
   "metadata": {},
   "outputs": [
    {
     "name": "stdout",
     "output_type": "stream",
     "text": [
      "23\n",
      "1\n",
      "0\n",
      "12\n",
      "45\n",
      "-1\n",
      "46\n"
     ]
    }
   ],
   "source": [
    "a = [23,1,0,12,45,-1,46]\n",
    "for item in a:\n",
    "    print(item)"
   ]
  },
  {
   "cell_type": "markdown",
   "metadata": {},
   "source": [
    "#### 2. Take a list [1,2,3,4,5,6,7,8], loop through each element and print it. But, use break to come out of the loop after printing the second element"
   ]
  },
  {
   "cell_type": "code",
   "execution_count": 120,
   "metadata": {},
   "outputs": [
    {
     "name": "stdout",
     "output_type": "stream",
     "text": [
      "1\n",
      "2\n"
     ]
    }
   ],
   "source": [
    "a = [1,2,3,4,5,6,7,8]\n",
    "for item in a:\n",
    "    print(item)\n",
    "    if item == 2:\n",
    "        break"
   ]
  },
  {
   "cell_type": "code",
   "execution_count": 1,
   "metadata": {},
   "outputs": [],
   "source": [
    "import numpy as np"
   ]
  },
  {
   "cell_type": "code",
   "execution_count": 12,
   "metadata": {},
   "outputs": [
    {
     "data": {
      "text/plain": [
       "array([[[1, 2],\n",
       "        [3, 4]],\n",
       "\n",
       "       [[5, 6],\n",
       "        [7, 8]]])"
      ]
     },
     "execution_count": 12,
     "metadata": {},
     "output_type": "execute_result"
    }
   ],
   "source": [
    "a = np.array([1,2,3,4,5,6,7,8]).reshape(2,2,2)\n",
    "a"
   ]
  },
  {
   "cell_type": "code",
   "execution_count": null,
   "metadata": {},
   "outputs": [],
   "source": []
  }
 ],
 "metadata": {
  "kernelspec": {
   "display_name": "Python 3",
   "language": "python",
   "name": "python3"
  },
  "language_info": {
   "codemirror_mode": {
    "name": "ipython",
    "version": 3
   },
   "file_extension": ".py",
   "mimetype": "text/x-python",
   "name": "python",
   "nbconvert_exporter": "python",
   "pygments_lexer": "ipython3",
   "version": "3.7.3"
  }
 },
 "nbformat": 4,
 "nbformat_minor": 2
}
